{
  "cells": [
    {
      "cell_type": "markdown",
      "source": [
        "# STAGE 2 - Pre-Processing | Banking Dataset #Absolute\n",
        "\n",
        "Kelompok 7: \n",
        "\n",
        "1. Fikrie Lazuardi \n",
        "2. Rian Dwi Haryono\n",
        "3. Retno dwi\n",
        "4. Wahyuni\n",
        "5. Hidayat Yatul\n",
        "6. Yunita Rachmawati\n",
        "7. Retno Harindhi"
      ],
      "metadata": {
        "id": "0_kkcQby4SXT"
      },
      "id": "0_kkcQby4SXT"
    },
    {
      "cell_type": "code",
      "execution_count": null,
      "id": "38685884-aafd-4da5-bdd0-cc910982d727",
      "metadata": {
        "id": "38685884-aafd-4da5-bdd0-cc910982d727",
        "colab": {
          "base_uri": "https://localhost:8080/"
        },
        "outputId": "382c41fa-ce68-408b-ae6b-0c9838f2a7ea"
      },
      "outputs": [
        {
          "output_type": "stream",
          "name": "stdout",
          "text": [
            "Drive already mounted at /content/drive; to attempt to forcibly remount, call drive.mount(\"/content/drive\", force_remount=True).\n"
          ]
        }
      ],
      "source": [
        "import numpy as np\n",
        "from sklearn import preprocessing\n",
        "from sklearn.preprocessing import StandardScaler\n",
        "from sklearn.model_selection import train_test_split\n",
        "from sklearn.model_selection import GridSearchCV\n",
        "from sklearn.linear_model import LogisticRegression\n",
        "from sklearn.discriminant_analysis import LinearDiscriminantAnalysis\n",
        "from sklearn.tree import DecisionTreeClassifier\n",
        "from sklearn.naive_bayes import GaussianNB\n",
        "from sklearn.neighbors import KNeighborsClassifier\n",
        "from sklearn.svm import SVC\n",
        "from sklearn.ensemble import RandomForestClassifier\n",
        "from sklearn.ensemble import AdaBoostClassifier\n",
        "from sklearn.ensemble import GradientBoostingClassifier\n",
        "import xgboost as xgb\n",
        "from imblearn.pipeline import Pipeline\n",
        "from sklearn.decomposition import PCA\n",
        "from sklearn.metrics import roc_auc_score\n",
        "from sklearn import model_selection\n",
        "from sklearn.metrics import classification_report\n",
        "from sklearn.metrics import confusion_matrix\n",
        "from sklearn.metrics import accuracy_score\n",
        "from imblearn import over_sampling\n",
        "import matplotlib.pyplot as plt\n",
        "%matplotlib inline\n",
        "import seaborn as sns\n",
        "from matplotlib import rcParams\n",
        "rcParams['figure.figsize'] = 10, 5\n",
        "rcParams['lines.linewidth'] = 3\n",
        "rcParams['xtick.labelsize'] = 'x-large'\n",
        "rcParams['ytick.labelsize'] = 'x-large'\n",
        "import warnings\n",
        "warnings.filterwarnings(\"ignore\")\n",
        "from google.colab import drive\n",
        "drive.mount('/content/drive')"
      ]
    },
    {
      "cell_type": "code",
      "execution_count": null,
      "id": "c8a5a266-8556-4c2f-89ed-604ac4bcc0fa",
      "metadata": {
        "id": "c8a5a266-8556-4c2f-89ed-604ac4bcc0fa",
        "outputId": "c9b4f975-113b-4a9b-8003-ab1c973e4e8f",
        "colab": {
          "base_uri": "https://localhost:8080/",
          "height": 206
        }
      },
      "outputs": [
        {
          "output_type": "execute_result",
          "data": {
            "text/plain": [
              "       age         job   marital  education default  balance housing loan  \\\n",
              "11680   51      admin.   married  secondary      no       37      no  yes   \n",
              "28214   31  management    single   tertiary      no     1120     yes   no   \n",
              "22032   33  management    single   tertiary      no       12      no   no   \n",
              "41958   43  technician    single    unknown      no    11115      no   no   \n",
              "10640   39      admin.  divorced  secondary      no      952     yes   no   \n",
              "\n",
              "        contact  day month  duration  campaign  pdays  previous poutcome    y  \n",
              "11680   unknown   20   jun       206         2     -1         0  unknown   no  \n",
              "28214  cellular   29   jan       217         2    239         1    other   no  \n",
              "22032  cellular   20   aug       471         5     -1         0  unknown   no  \n",
              "41958  cellular   23   oct       476         1     74         2  success  yes  \n",
              "10640   unknown   16   jun        62         1     -1         0  unknown   no  "
            ],
            "text/html": [
              "\n",
              "  <div id=\"df-22c39ba9-22da-4b69-835a-5445578d1b44\">\n",
              "    <div class=\"colab-df-container\">\n",
              "      <div>\n",
              "<style scoped>\n",
              "    .dataframe tbody tr th:only-of-type {\n",
              "        vertical-align: middle;\n",
              "    }\n",
              "\n",
              "    .dataframe tbody tr th {\n",
              "        vertical-align: top;\n",
              "    }\n",
              "\n",
              "    .dataframe thead th {\n",
              "        text-align: right;\n",
              "    }\n",
              "</style>\n",
              "<table border=\"1\" class=\"dataframe\">\n",
              "  <thead>\n",
              "    <tr style=\"text-align: right;\">\n",
              "      <th></th>\n",
              "      <th>age</th>\n",
              "      <th>job</th>\n",
              "      <th>marital</th>\n",
              "      <th>education</th>\n",
              "      <th>default</th>\n",
              "      <th>balance</th>\n",
              "      <th>housing</th>\n",
              "      <th>loan</th>\n",
              "      <th>contact</th>\n",
              "      <th>day</th>\n",
              "      <th>month</th>\n",
              "      <th>duration</th>\n",
              "      <th>campaign</th>\n",
              "      <th>pdays</th>\n",
              "      <th>previous</th>\n",
              "      <th>poutcome</th>\n",
              "      <th>y</th>\n",
              "    </tr>\n",
              "  </thead>\n",
              "  <tbody>\n",
              "    <tr>\n",
              "      <th>11680</th>\n",
              "      <td>51</td>\n",
              "      <td>admin.</td>\n",
              "      <td>married</td>\n",
              "      <td>secondary</td>\n",
              "      <td>no</td>\n",
              "      <td>37</td>\n",
              "      <td>no</td>\n",
              "      <td>yes</td>\n",
              "      <td>unknown</td>\n",
              "      <td>20</td>\n",
              "      <td>jun</td>\n",
              "      <td>206</td>\n",
              "      <td>2</td>\n",
              "      <td>-1</td>\n",
              "      <td>0</td>\n",
              "      <td>unknown</td>\n",
              "      <td>no</td>\n",
              "    </tr>\n",
              "    <tr>\n",
              "      <th>28214</th>\n",
              "      <td>31</td>\n",
              "      <td>management</td>\n",
              "      <td>single</td>\n",
              "      <td>tertiary</td>\n",
              "      <td>no</td>\n",
              "      <td>1120</td>\n",
              "      <td>yes</td>\n",
              "      <td>no</td>\n",
              "      <td>cellular</td>\n",
              "      <td>29</td>\n",
              "      <td>jan</td>\n",
              "      <td>217</td>\n",
              "      <td>2</td>\n",
              "      <td>239</td>\n",
              "      <td>1</td>\n",
              "      <td>other</td>\n",
              "      <td>no</td>\n",
              "    </tr>\n",
              "    <tr>\n",
              "      <th>22032</th>\n",
              "      <td>33</td>\n",
              "      <td>management</td>\n",
              "      <td>single</td>\n",
              "      <td>tertiary</td>\n",
              "      <td>no</td>\n",
              "      <td>12</td>\n",
              "      <td>no</td>\n",
              "      <td>no</td>\n",
              "      <td>cellular</td>\n",
              "      <td>20</td>\n",
              "      <td>aug</td>\n",
              "      <td>471</td>\n",
              "      <td>5</td>\n",
              "      <td>-1</td>\n",
              "      <td>0</td>\n",
              "      <td>unknown</td>\n",
              "      <td>no</td>\n",
              "    </tr>\n",
              "    <tr>\n",
              "      <th>41958</th>\n",
              "      <td>43</td>\n",
              "      <td>technician</td>\n",
              "      <td>single</td>\n",
              "      <td>unknown</td>\n",
              "      <td>no</td>\n",
              "      <td>11115</td>\n",
              "      <td>no</td>\n",
              "      <td>no</td>\n",
              "      <td>cellular</td>\n",
              "      <td>23</td>\n",
              "      <td>oct</td>\n",
              "      <td>476</td>\n",
              "      <td>1</td>\n",
              "      <td>74</td>\n",
              "      <td>2</td>\n",
              "      <td>success</td>\n",
              "      <td>yes</td>\n",
              "    </tr>\n",
              "    <tr>\n",
              "      <th>10640</th>\n",
              "      <td>39</td>\n",
              "      <td>admin.</td>\n",
              "      <td>divorced</td>\n",
              "      <td>secondary</td>\n",
              "      <td>no</td>\n",
              "      <td>952</td>\n",
              "      <td>yes</td>\n",
              "      <td>no</td>\n",
              "      <td>unknown</td>\n",
              "      <td>16</td>\n",
              "      <td>jun</td>\n",
              "      <td>62</td>\n",
              "      <td>1</td>\n",
              "      <td>-1</td>\n",
              "      <td>0</td>\n",
              "      <td>unknown</td>\n",
              "      <td>no</td>\n",
              "    </tr>\n",
              "  </tbody>\n",
              "</table>\n",
              "</div>\n",
              "      <button class=\"colab-df-convert\" onclick=\"convertToInteractive('df-22c39ba9-22da-4b69-835a-5445578d1b44')\"\n",
              "              title=\"Convert this dataframe to an interactive table.\"\n",
              "              style=\"display:none;\">\n",
              "        \n",
              "  <svg xmlns=\"http://www.w3.org/2000/svg\" height=\"24px\"viewBox=\"0 0 24 24\"\n",
              "       width=\"24px\">\n",
              "    <path d=\"M0 0h24v24H0V0z\" fill=\"none\"/>\n",
              "    <path d=\"M18.56 5.44l.94 2.06.94-2.06 2.06-.94-2.06-.94-.94-2.06-.94 2.06-2.06.94zm-11 1L8.5 8.5l.94-2.06 2.06-.94-2.06-.94L8.5 2.5l-.94 2.06-2.06.94zm10 10l.94 2.06.94-2.06 2.06-.94-2.06-.94-.94-2.06-.94 2.06-2.06.94z\"/><path d=\"M17.41 7.96l-1.37-1.37c-.4-.4-.92-.59-1.43-.59-.52 0-1.04.2-1.43.59L10.3 9.45l-7.72 7.72c-.78.78-.78 2.05 0 2.83L4 21.41c.39.39.9.59 1.41.59.51 0 1.02-.2 1.41-.59l7.78-7.78 2.81-2.81c.8-.78.8-2.07 0-2.86zM5.41 20L4 18.59l7.72-7.72 1.47 1.35L5.41 20z\"/>\n",
              "  </svg>\n",
              "      </button>\n",
              "      \n",
              "  <style>\n",
              "    .colab-df-container {\n",
              "      display:flex;\n",
              "      flex-wrap:wrap;\n",
              "      gap: 12px;\n",
              "    }\n",
              "\n",
              "    .colab-df-convert {\n",
              "      background-color: #E8F0FE;\n",
              "      border: none;\n",
              "      border-radius: 50%;\n",
              "      cursor: pointer;\n",
              "      display: none;\n",
              "      fill: #1967D2;\n",
              "      height: 32px;\n",
              "      padding: 0 0 0 0;\n",
              "      width: 32px;\n",
              "    }\n",
              "\n",
              "    .colab-df-convert:hover {\n",
              "      background-color: #E2EBFA;\n",
              "      box-shadow: 0px 1px 2px rgba(60, 64, 67, 0.3), 0px 1px 3px 1px rgba(60, 64, 67, 0.15);\n",
              "      fill: #174EA6;\n",
              "    }\n",
              "\n",
              "    [theme=dark] .colab-df-convert {\n",
              "      background-color: #3B4455;\n",
              "      fill: #D2E3FC;\n",
              "    }\n",
              "\n",
              "    [theme=dark] .colab-df-convert:hover {\n",
              "      background-color: #434B5C;\n",
              "      box-shadow: 0px 1px 3px 1px rgba(0, 0, 0, 0.15);\n",
              "      filter: drop-shadow(0px 1px 2px rgba(0, 0, 0, 0.3));\n",
              "      fill: #FFFFFF;\n",
              "    }\n",
              "  </style>\n",
              "\n",
              "      <script>\n",
              "        const buttonEl =\n",
              "          document.querySelector('#df-22c39ba9-22da-4b69-835a-5445578d1b44 button.colab-df-convert');\n",
              "        buttonEl.style.display =\n",
              "          google.colab.kernel.accessAllowed ? 'block' : 'none';\n",
              "\n",
              "        async function convertToInteractive(key) {\n",
              "          const element = document.querySelector('#df-22c39ba9-22da-4b69-835a-5445578d1b44');\n",
              "          const dataTable =\n",
              "            await google.colab.kernel.invokeFunction('convertToInteractive',\n",
              "                                                     [key], {});\n",
              "          if (!dataTable) return;\n",
              "\n",
              "          const docLinkHtml = 'Like what you see? Visit the ' +\n",
              "            '<a target=\"_blank\" href=https://colab.research.google.com/notebooks/data_table.ipynb>data table notebook</a>'\n",
              "            + ' to learn more about interactive tables.';\n",
              "          element.innerHTML = '';\n",
              "          dataTable['output_type'] = 'display_data';\n",
              "          await google.colab.output.renderOutput(dataTable, element);\n",
              "          const docLink = document.createElement('div');\n",
              "          docLink.innerHTML = docLinkHtml;\n",
              "          element.appendChild(docLink);\n",
              "        }\n",
              "      </script>\n",
              "    </div>\n",
              "  </div>\n",
              "  "
            ]
          },
          "metadata": {},
          "execution_count": 55
        }
      ],
      "source": [
        "#import dataset train\n",
        "import pandas as pd \n",
        "dftrain = pd.read_csv('/content/drive/MyDrive/Colab Notebooks/train.csv', sep= \";\")\n",
        "pd.set_option('display.max_columns', None) #Menunjukan semua kolom\n",
        "dftrain.sample(5)"
      ]
    },
    {
      "cell_type": "markdown",
      "source": [
        "## Data Cleansing"
      ],
      "metadata": {
        "id": "3qEYGGZmmQVm"
      },
      "id": "3qEYGGZmmQVm"
    },
    {
      "cell_type": "markdown",
      "source": [
        "### Handle Missing Values"
      ],
      "metadata": {
        "id": "8XmW4JThoHou"
      },
      "id": "8XmW4JThoHou"
    },
    {
      "cell_type": "code",
      "source": [
        "dftrain.isnull().any()  # dataset traincsv tidak ada missing value "
      ],
      "metadata": {
        "colab": {
          "base_uri": "https://localhost:8080/"
        },
        "id": "rKVfgvQ4m7XF",
        "outputId": "b69bda51-5511-4910-f793-317bf3dcc338"
      },
      "id": "rKVfgvQ4m7XF",
      "execution_count": null,
      "outputs": [
        {
          "output_type": "execute_result",
          "data": {
            "text/plain": [
              "age          False\n",
              "job          False\n",
              "marital      False\n",
              "education    False\n",
              "default      False\n",
              "balance      False\n",
              "housing      False\n",
              "loan         False\n",
              "contact      False\n",
              "day          False\n",
              "month        False\n",
              "duration     False\n",
              "campaign     False\n",
              "pdays        False\n",
              "previous     False\n",
              "poutcome     False\n",
              "y            False\n",
              "dtype: bool"
            ]
          },
          "metadata": {},
          "execution_count": 56
        }
      ]
    },
    {
      "cell_type": "markdown",
      "source": [
        "#### Imputasi Value di Beberapa Kolom"
      ],
      "metadata": {
        "id": "n1JCi_TH6QLR"
      },
      "id": "n1JCi_TH6QLR"
    },
    {
      "cell_type": "code",
      "source": [
        "dftrain['job'].value_counts()"
      ],
      "metadata": {
        "colab": {
          "base_uri": "https://localhost:8080/"
        },
        "id": "64B2ELyCqG19",
        "outputId": "5cdd0262-dfa3-4905-cfb5-ac65a6f54962"
      },
      "id": "64B2ELyCqG19",
      "execution_count": null,
      "outputs": [
        {
          "output_type": "execute_result",
          "data": {
            "text/plain": [
              "blue-collar      9732\n",
              "management       9458\n",
              "technician       7597\n",
              "admin.           5171\n",
              "services         4154\n",
              "retired          2264\n",
              "self-employed    1579\n",
              "entrepreneur     1487\n",
              "unemployed       1303\n",
              "housemaid        1240\n",
              "student           938\n",
              "unknown           288\n",
              "Name: job, dtype: int64"
            ]
          },
          "metadata": {},
          "execution_count": 57
        }
      ]
    },
    {
      "cell_type": "code",
      "source": [
        "dftrain['education'].value_counts()"
      ],
      "metadata": {
        "colab": {
          "base_uri": "https://localhost:8080/"
        },
        "id": "MX-V8zgvqMof",
        "outputId": "107c5be6-4129-4a2b-dca6-31b0ade16d01"
      },
      "id": "MX-V8zgvqMof",
      "execution_count": null,
      "outputs": [
        {
          "output_type": "execute_result",
          "data": {
            "text/plain": [
              "secondary    23202\n",
              "tertiary     13301\n",
              "primary       6851\n",
              "unknown       1857\n",
              "Name: education, dtype: int64"
            ]
          },
          "metadata": {},
          "execution_count": 58
        }
      ]
    },
    {
      "cell_type": "code",
      "source": [
        "dftrain[dftrain['balance'] < 0]"
      ],
      "metadata": {
        "colab": {
          "base_uri": "https://localhost:8080/",
          "height": 423
        },
        "id": "5RsWqFLBqM2J",
        "outputId": "65a60cd9-12eb-404d-c540-9bad8a8ade80"
      },
      "id": "5RsWqFLBqM2J",
      "execution_count": null,
      "outputs": [
        {
          "output_type": "execute_result",
          "data": {
            "text/plain": [
              "       age          job   marital  education default  balance housing loan  \\\n",
              "25      44       admin.   married  secondary      no     -372     yes   no   \n",
              "28      46   management    single  secondary      no     -246     yes   no   \n",
              "36      25  blue-collar   married  secondary      no       -7     yes   no   \n",
              "37      53   technician   married  secondary      no       -3      no   no   \n",
              "45      36       admin.    single    primary      no     -171     yes   no   \n",
              "...    ...          ...       ...        ...     ...      ...     ...  ...   \n",
              "44626   31     services    single  secondary      no     -205      no   no   \n",
              "44629   28  blue-collar    single  secondary      no      -46     yes   no   \n",
              "44836   33  blue-collar   married    primary      no     -195      no   no   \n",
              "44908   48   management  divorced   tertiary      no     -130     yes   no   \n",
              "44964   21  blue-collar    single    primary      no      -42      no   no   \n",
              "\n",
              "        contact  day month  duration  campaign  pdays  previous poutcome    y  \n",
              "25      unknown    5   may       172         1     -1         0  unknown   no  \n",
              "28      unknown    5   may       255         2     -1         0  unknown   no  \n",
              "36      unknown    5   may       365         1     -1         0  unknown   no  \n",
              "37      unknown    5   may      1666         1     -1         0  unknown   no  \n",
              "45      unknown    5   may       242         1     -1         0  unknown   no  \n",
              "...         ...  ...   ...       ...       ...    ...       ...      ...  ...  \n",
              "44626  cellular    1   sep       481         1    579         1  failure  yes  \n",
              "44629  cellular    1   sep       199         1     92        14  success  yes  \n",
              "44836   unknown   20   sep         9         1     -1         0  unknown   no  \n",
              "44908  cellular   29   sep       110         2     61         9  failure   no  \n",
              "44964   unknown   10   oct         5         1     -1         0  unknown   no  \n",
              "\n",
              "[3766 rows x 17 columns]"
            ],
            "text/html": [
              "\n",
              "  <div id=\"df-bca4a90e-e80c-418a-a235-21766acfa2c4\">\n",
              "    <div class=\"colab-df-container\">\n",
              "      <div>\n",
              "<style scoped>\n",
              "    .dataframe tbody tr th:only-of-type {\n",
              "        vertical-align: middle;\n",
              "    }\n",
              "\n",
              "    .dataframe tbody tr th {\n",
              "        vertical-align: top;\n",
              "    }\n",
              "\n",
              "    .dataframe thead th {\n",
              "        text-align: right;\n",
              "    }\n",
              "</style>\n",
              "<table border=\"1\" class=\"dataframe\">\n",
              "  <thead>\n",
              "    <tr style=\"text-align: right;\">\n",
              "      <th></th>\n",
              "      <th>age</th>\n",
              "      <th>job</th>\n",
              "      <th>marital</th>\n",
              "      <th>education</th>\n",
              "      <th>default</th>\n",
              "      <th>balance</th>\n",
              "      <th>housing</th>\n",
              "      <th>loan</th>\n",
              "      <th>contact</th>\n",
              "      <th>day</th>\n",
              "      <th>month</th>\n",
              "      <th>duration</th>\n",
              "      <th>campaign</th>\n",
              "      <th>pdays</th>\n",
              "      <th>previous</th>\n",
              "      <th>poutcome</th>\n",
              "      <th>y</th>\n",
              "    </tr>\n",
              "  </thead>\n",
              "  <tbody>\n",
              "    <tr>\n",
              "      <th>25</th>\n",
              "      <td>44</td>\n",
              "      <td>admin.</td>\n",
              "      <td>married</td>\n",
              "      <td>secondary</td>\n",
              "      <td>no</td>\n",
              "      <td>-372</td>\n",
              "      <td>yes</td>\n",
              "      <td>no</td>\n",
              "      <td>unknown</td>\n",
              "      <td>5</td>\n",
              "      <td>may</td>\n",
              "      <td>172</td>\n",
              "      <td>1</td>\n",
              "      <td>-1</td>\n",
              "      <td>0</td>\n",
              "      <td>unknown</td>\n",
              "      <td>no</td>\n",
              "    </tr>\n",
              "    <tr>\n",
              "      <th>28</th>\n",
              "      <td>46</td>\n",
              "      <td>management</td>\n",
              "      <td>single</td>\n",
              "      <td>secondary</td>\n",
              "      <td>no</td>\n",
              "      <td>-246</td>\n",
              "      <td>yes</td>\n",
              "      <td>no</td>\n",
              "      <td>unknown</td>\n",
              "      <td>5</td>\n",
              "      <td>may</td>\n",
              "      <td>255</td>\n",
              "      <td>2</td>\n",
              "      <td>-1</td>\n",
              "      <td>0</td>\n",
              "      <td>unknown</td>\n",
              "      <td>no</td>\n",
              "    </tr>\n",
              "    <tr>\n",
              "      <th>36</th>\n",
              "      <td>25</td>\n",
              "      <td>blue-collar</td>\n",
              "      <td>married</td>\n",
              "      <td>secondary</td>\n",
              "      <td>no</td>\n",
              "      <td>-7</td>\n",
              "      <td>yes</td>\n",
              "      <td>no</td>\n",
              "      <td>unknown</td>\n",
              "      <td>5</td>\n",
              "      <td>may</td>\n",
              "      <td>365</td>\n",
              "      <td>1</td>\n",
              "      <td>-1</td>\n",
              "      <td>0</td>\n",
              "      <td>unknown</td>\n",
              "      <td>no</td>\n",
              "    </tr>\n",
              "    <tr>\n",
              "      <th>37</th>\n",
              "      <td>53</td>\n",
              "      <td>technician</td>\n",
              "      <td>married</td>\n",
              "      <td>secondary</td>\n",
              "      <td>no</td>\n",
              "      <td>-3</td>\n",
              "      <td>no</td>\n",
              "      <td>no</td>\n",
              "      <td>unknown</td>\n",
              "      <td>5</td>\n",
              "      <td>may</td>\n",
              "      <td>1666</td>\n",
              "      <td>1</td>\n",
              "      <td>-1</td>\n",
              "      <td>0</td>\n",
              "      <td>unknown</td>\n",
              "      <td>no</td>\n",
              "    </tr>\n",
              "    <tr>\n",
              "      <th>45</th>\n",
              "      <td>36</td>\n",
              "      <td>admin.</td>\n",
              "      <td>single</td>\n",
              "      <td>primary</td>\n",
              "      <td>no</td>\n",
              "      <td>-171</td>\n",
              "      <td>yes</td>\n",
              "      <td>no</td>\n",
              "      <td>unknown</td>\n",
              "      <td>5</td>\n",
              "      <td>may</td>\n",
              "      <td>242</td>\n",
              "      <td>1</td>\n",
              "      <td>-1</td>\n",
              "      <td>0</td>\n",
              "      <td>unknown</td>\n",
              "      <td>no</td>\n",
              "    </tr>\n",
              "    <tr>\n",
              "      <th>...</th>\n",
              "      <td>...</td>\n",
              "      <td>...</td>\n",
              "      <td>...</td>\n",
              "      <td>...</td>\n",
              "      <td>...</td>\n",
              "      <td>...</td>\n",
              "      <td>...</td>\n",
              "      <td>...</td>\n",
              "      <td>...</td>\n",
              "      <td>...</td>\n",
              "      <td>...</td>\n",
              "      <td>...</td>\n",
              "      <td>...</td>\n",
              "      <td>...</td>\n",
              "      <td>...</td>\n",
              "      <td>...</td>\n",
              "      <td>...</td>\n",
              "    </tr>\n",
              "    <tr>\n",
              "      <th>44626</th>\n",
              "      <td>31</td>\n",
              "      <td>services</td>\n",
              "      <td>single</td>\n",
              "      <td>secondary</td>\n",
              "      <td>no</td>\n",
              "      <td>-205</td>\n",
              "      <td>no</td>\n",
              "      <td>no</td>\n",
              "      <td>cellular</td>\n",
              "      <td>1</td>\n",
              "      <td>sep</td>\n",
              "      <td>481</td>\n",
              "      <td>1</td>\n",
              "      <td>579</td>\n",
              "      <td>1</td>\n",
              "      <td>failure</td>\n",
              "      <td>yes</td>\n",
              "    </tr>\n",
              "    <tr>\n",
              "      <th>44629</th>\n",
              "      <td>28</td>\n",
              "      <td>blue-collar</td>\n",
              "      <td>single</td>\n",
              "      <td>secondary</td>\n",
              "      <td>no</td>\n",
              "      <td>-46</td>\n",
              "      <td>yes</td>\n",
              "      <td>no</td>\n",
              "      <td>cellular</td>\n",
              "      <td>1</td>\n",
              "      <td>sep</td>\n",
              "      <td>199</td>\n",
              "      <td>1</td>\n",
              "      <td>92</td>\n",
              "      <td>14</td>\n",
              "      <td>success</td>\n",
              "      <td>yes</td>\n",
              "    </tr>\n",
              "    <tr>\n",
              "      <th>44836</th>\n",
              "      <td>33</td>\n",
              "      <td>blue-collar</td>\n",
              "      <td>married</td>\n",
              "      <td>primary</td>\n",
              "      <td>no</td>\n",
              "      <td>-195</td>\n",
              "      <td>no</td>\n",
              "      <td>no</td>\n",
              "      <td>unknown</td>\n",
              "      <td>20</td>\n",
              "      <td>sep</td>\n",
              "      <td>9</td>\n",
              "      <td>1</td>\n",
              "      <td>-1</td>\n",
              "      <td>0</td>\n",
              "      <td>unknown</td>\n",
              "      <td>no</td>\n",
              "    </tr>\n",
              "    <tr>\n",
              "      <th>44908</th>\n",
              "      <td>48</td>\n",
              "      <td>management</td>\n",
              "      <td>divorced</td>\n",
              "      <td>tertiary</td>\n",
              "      <td>no</td>\n",
              "      <td>-130</td>\n",
              "      <td>yes</td>\n",
              "      <td>no</td>\n",
              "      <td>cellular</td>\n",
              "      <td>29</td>\n",
              "      <td>sep</td>\n",
              "      <td>110</td>\n",
              "      <td>2</td>\n",
              "      <td>61</td>\n",
              "      <td>9</td>\n",
              "      <td>failure</td>\n",
              "      <td>no</td>\n",
              "    </tr>\n",
              "    <tr>\n",
              "      <th>44964</th>\n",
              "      <td>21</td>\n",
              "      <td>blue-collar</td>\n",
              "      <td>single</td>\n",
              "      <td>primary</td>\n",
              "      <td>no</td>\n",
              "      <td>-42</td>\n",
              "      <td>no</td>\n",
              "      <td>no</td>\n",
              "      <td>unknown</td>\n",
              "      <td>10</td>\n",
              "      <td>oct</td>\n",
              "      <td>5</td>\n",
              "      <td>1</td>\n",
              "      <td>-1</td>\n",
              "      <td>0</td>\n",
              "      <td>unknown</td>\n",
              "      <td>no</td>\n",
              "    </tr>\n",
              "  </tbody>\n",
              "</table>\n",
              "<p>3766 rows × 17 columns</p>\n",
              "</div>\n",
              "      <button class=\"colab-df-convert\" onclick=\"convertToInteractive('df-bca4a90e-e80c-418a-a235-21766acfa2c4')\"\n",
              "              title=\"Convert this dataframe to an interactive table.\"\n",
              "              style=\"display:none;\">\n",
              "        \n",
              "  <svg xmlns=\"http://www.w3.org/2000/svg\" height=\"24px\"viewBox=\"0 0 24 24\"\n",
              "       width=\"24px\">\n",
              "    <path d=\"M0 0h24v24H0V0z\" fill=\"none\"/>\n",
              "    <path d=\"M18.56 5.44l.94 2.06.94-2.06 2.06-.94-2.06-.94-.94-2.06-.94 2.06-2.06.94zm-11 1L8.5 8.5l.94-2.06 2.06-.94-2.06-.94L8.5 2.5l-.94 2.06-2.06.94zm10 10l.94 2.06.94-2.06 2.06-.94-2.06-.94-.94-2.06-.94 2.06-2.06.94z\"/><path d=\"M17.41 7.96l-1.37-1.37c-.4-.4-.92-.59-1.43-.59-.52 0-1.04.2-1.43.59L10.3 9.45l-7.72 7.72c-.78.78-.78 2.05 0 2.83L4 21.41c.39.39.9.59 1.41.59.51 0 1.02-.2 1.41-.59l7.78-7.78 2.81-2.81c.8-.78.8-2.07 0-2.86zM5.41 20L4 18.59l7.72-7.72 1.47 1.35L5.41 20z\"/>\n",
              "  </svg>\n",
              "      </button>\n",
              "      \n",
              "  <style>\n",
              "    .colab-df-container {\n",
              "      display:flex;\n",
              "      flex-wrap:wrap;\n",
              "      gap: 12px;\n",
              "    }\n",
              "\n",
              "    .colab-df-convert {\n",
              "      background-color: #E8F0FE;\n",
              "      border: none;\n",
              "      border-radius: 50%;\n",
              "      cursor: pointer;\n",
              "      display: none;\n",
              "      fill: #1967D2;\n",
              "      height: 32px;\n",
              "      padding: 0 0 0 0;\n",
              "      width: 32px;\n",
              "    }\n",
              "\n",
              "    .colab-df-convert:hover {\n",
              "      background-color: #E2EBFA;\n",
              "      box-shadow: 0px 1px 2px rgba(60, 64, 67, 0.3), 0px 1px 3px 1px rgba(60, 64, 67, 0.15);\n",
              "      fill: #174EA6;\n",
              "    }\n",
              "\n",
              "    [theme=dark] .colab-df-convert {\n",
              "      background-color: #3B4455;\n",
              "      fill: #D2E3FC;\n",
              "    }\n",
              "\n",
              "    [theme=dark] .colab-df-convert:hover {\n",
              "      background-color: #434B5C;\n",
              "      box-shadow: 0px 1px 3px 1px rgba(0, 0, 0, 0.15);\n",
              "      filter: drop-shadow(0px 1px 2px rgba(0, 0, 0, 0.3));\n",
              "      fill: #FFFFFF;\n",
              "    }\n",
              "  </style>\n",
              "\n",
              "      <script>\n",
              "        const buttonEl =\n",
              "          document.querySelector('#df-bca4a90e-e80c-418a-a235-21766acfa2c4 button.colab-df-convert');\n",
              "        buttonEl.style.display =\n",
              "          google.colab.kernel.accessAllowed ? 'block' : 'none';\n",
              "\n",
              "        async function convertToInteractive(key) {\n",
              "          const element = document.querySelector('#df-bca4a90e-e80c-418a-a235-21766acfa2c4');\n",
              "          const dataTable =\n",
              "            await google.colab.kernel.invokeFunction('convertToInteractive',\n",
              "                                                     [key], {});\n",
              "          if (!dataTable) return;\n",
              "\n",
              "          const docLinkHtml = 'Like what you see? Visit the ' +\n",
              "            '<a target=\"_blank\" href=https://colab.research.google.com/notebooks/data_table.ipynb>data table notebook</a>'\n",
              "            + ' to learn more about interactive tables.';\n",
              "          element.innerHTML = '';\n",
              "          dataTable['output_type'] = 'display_data';\n",
              "          await google.colab.output.renderOutput(dataTable, element);\n",
              "          const docLink = document.createElement('div');\n",
              "          docLink.innerHTML = docLinkHtml;\n",
              "          element.appendChild(docLink);\n",
              "        }\n",
              "      </script>\n",
              "    </div>\n",
              "  </div>\n",
              "  "
            ]
          },
          "metadata": {},
          "execution_count": 59
        }
      ]
    },
    {
      "cell_type": "code",
      "source": [
        "dftrain['contact'].value_counts()"
      ],
      "metadata": {
        "colab": {
          "base_uri": "https://localhost:8080/"
        },
        "id": "dmEi1M-kqNA7",
        "outputId": "023bd753-85f9-4d24-96be-1ce99cef2363"
      },
      "id": "dmEi1M-kqNA7",
      "execution_count": null,
      "outputs": [
        {
          "output_type": "execute_result",
          "data": {
            "text/plain": [
              "cellular     29285\n",
              "unknown      13020\n",
              "telephone     2906\n",
              "Name: contact, dtype: int64"
            ]
          },
          "metadata": {},
          "execution_count": 60
        }
      ]
    },
    {
      "cell_type": "code",
      "source": [
        "dftrain['job'].mask(dftrain['job'] == 'unknown', dftrain['job'].mode(), inplace = True)\n",
        "dftrain['education'].mask(dftrain['education'] == 'unknown', dftrain['education'].mode(), inplace = True)\n",
        "dftrain['balance'].mask(dftrain['balance'] < 0, dftrain['balance'].mean(), inplace = True)\n",
        "dftrain['contact'].mask(dftrain['contact'] == 'unknown', dftrain['contact'].mode(), inplace = True)"
      ],
      "metadata": {
        "id": "xz1kMS2-qTT8"
      },
      "id": "xz1kMS2-qTT8",
      "execution_count": null,
      "outputs": []
    },
    {
      "cell_type": "markdown",
      "source": [
        "Simpulan :\n",
        "\n",
        "1) Berikut jumlah data unknown pada kolom.\n",
        "- Kolom job dengan value unknown berjumlah 288, lalu digantikan dengan nilai modus.\n",
        "- Value unknown pada kolom education sebanyak 1857, kemudian digantikan dengan nilai modus\n",
        "- Kolom contact dengan value unknown sebanyak 13020, lalu digantikan dengan nilai modus.\n",
        "\n",
        "2) Terdapat data minus pada kolom balance sebanyak 3766, hal ini membuat kita menggantikan nilai minus menjadi nilai median agar bisa dilanjutkan untuk di analisis.\n",
        "\n",
        "3) Adapula data unknown pada kolom potcome yaitu sebanyak 36959 , karena data unknown terlalu besar maka kami memutusakan untuk tidak menghapus atau menggantikan nya. Saat ini kami akan tetap mempertahankanya sampai dengan feature importance."
      ],
      "metadata": {
        "id": "DvHNVAyxqqL0"
      },
      "id": "DvHNVAyxqqL0"
    },
    {
      "cell_type": "markdown",
      "source": [
        "### Handle Duplicated Data"
      ],
      "metadata": {
        "id": "N9Xt3rWko312"
      },
      "id": "N9Xt3rWko312"
    },
    {
      "cell_type": "code",
      "source": [
        "dftrain.duplicated().sum() "
      ],
      "metadata": {
        "colab": {
          "base_uri": "https://localhost:8080/"
        },
        "id": "B_H7lrgyolzo",
        "outputId": "7aef54ac-b5a4-4c24-fa0c-b80818bd51c5"
      },
      "id": "B_H7lrgyolzo",
      "execution_count": null,
      "outputs": [
        {
          "output_type": "execute_result",
          "data": {
            "text/plain": [
              "0"
            ]
          },
          "metadata": {},
          "execution_count": 62
        }
      ]
    },
    {
      "cell_type": "code",
      "source": [
        "dftrain.duplicated().any()"
      ],
      "metadata": {
        "colab": {
          "base_uri": "https://localhost:8080/"
        },
        "id": "w4FZfk5gpJB1",
        "outputId": "5918f9af-e15e-4f65-8251-6c4ec09b0409"
      },
      "id": "w4FZfk5gpJB1",
      "execution_count": null,
      "outputs": [
        {
          "output_type": "execute_result",
          "data": {
            "text/plain": [
              "False"
            ]
          },
          "metadata": {},
          "execution_count": 63
        }
      ]
    },
    {
      "cell_type": "markdown",
      "source": [
        "Simpulan :\n",
        "\n",
        "Tidak memiliki data yang duplikat"
      ],
      "metadata": {
        "id": "ymTq-xfQ8X5s"
      },
      "id": "ymTq-xfQ8X5s"
    },
    {
      "cell_type": "markdown",
      "source": [
        "### Handle Outliers"
      ],
      "metadata": {
        "id": "nQSfnio5pf2I"
      },
      "id": "nQSfnio5pf2I"
    },
    {
      "cell_type": "code",
      "execution_count": null,
      "id": "29a3c3b3-04f7-45ac-aac5-bd1e86f5df88",
      "metadata": {
        "id": "29a3c3b3-04f7-45ac-aac5-bd1e86f5df88"
      },
      "outputs": [],
      "source": [
        "#mengelompokan data sesuai dengan tipe data \n",
        "numericals=['age', 'balance', 'day', 'duration', 'campaign', 'pdays', 'previous']\n",
        "categoricals=['job', 'marital', 'education', 'default', 'housing', 'loan', 'contact', 'month', 'poutcome', 'y']"
      ]
    },
    {
      "cell_type": "code",
      "execution_count": null,
      "id": "b9a1b792-cb3c-4c4e-a0c1-7600b3c30878",
      "metadata": {
        "id": "b9a1b792-cb3c-4c4e-a0c1-7600b3c30878",
        "outputId": "3d1920b0-f199-43f0-b32e-bacae55cb35f",
        "colab": {
          "base_uri": "https://localhost:8080/"
        }
      },
      "outputs": [
        {
          "output_type": "stream",
          "name": "stdout",
          "text": [
            "Jumlah baris sebelum memfilter outlier: 45211\n",
            "Jumlah baris setelah memfilter outlier: 40211\n"
          ]
        }
      ],
      "source": [
        "from scipy import stats\n",
        "print(f'Jumlah baris sebelum memfilter outlier: {len(dftrain)}')\n",
        "\n",
        "filtered_entries = np.array([True] * len(dftrain))\n",
        "\n",
        "for col in numericals:\n",
        "    zscore = abs(stats.zscore(dftrain[col])) \n",
        "    filtered_entries = (zscore < 3) & filtered_entries \n",
        "    \n",
        "dftrain = dftrain[filtered_entries] \n",
        "\n",
        "print(f'Jumlah baris setelah memfilter outlier: {len(dftrain)}')"
      ]
    },
    {
      "cell_type": "markdown",
      "source": [
        "Simpulan :\n",
        "\n",
        "Analisis ini menggunakan Z-score filtering (cenderung lebih konservatif)\n",
        "karena cenderung lebih aman dan tidak terlalu berisiko. Dimana model cenderung lebih hati-hati untuk memprediksi apakah seseorang akan berlangganan atau tidak berlangganan"
      ],
      "metadata": {
        "id": "Cdu8tBWF8qax"
      },
      "id": "Cdu8tBWF8qax"
    },
    {
      "cell_type": "markdown",
      "source": [
        "### Feature Transformation"
      ],
      "metadata": {
        "id": "zDlS7kTOrd9x"
      },
      "id": "zDlS7kTOrd9x"
    },
    {
      "cell_type": "code",
      "execution_count": null,
      "id": "858ad7c5-89a6-4711-9d1e-79a142de12cc",
      "metadata": {
        "id": "858ad7c5-89a6-4711-9d1e-79a142de12cc"
      },
      "outputs": [],
      "source": [
        "from sklearn.preprocessing import MinMaxScaler, StandardScaler\n",
        "# kita tranformasi\n",
        "dftrain['age_norm'] = MinMaxScaler().fit_transform(dftrain['age'].values.reshape(len(dftrain),1))\n",
        "dftrain['balance_std'] = StandardScaler().fit_transform(dftrain['balance'].values.reshape(len(dftrain),1))\n",
        "dftrain['days_norm'] = MinMaxScaler().fit_transform(dftrain['day'].values.reshape(len(dftrain),1))\n",
        "dftrain['duration_norm'] = MinMaxScaler().fit_transform(dftrain['duration'].values.reshape(len(dftrain),1))\n",
        "dftrain['campaign_std'] = StandardScaler().fit_transform(dftrain['campaign'].values.reshape(len(dftrain),1))\n",
        "dftrain['pdays_norm'] = MinMaxScaler().fit_transform(dftrain['pdays'].values.reshape(len(dftrain),1))\n",
        "dftrain['previous_norm'] = MinMaxScaler().fit_transform(dftrain['previous'].values.reshape(len(dftrain),1))"
      ]
    },
    {
      "cell_type": "markdown",
      "source": [
        "Simpulan :\n",
        "\n",
        "Normalisasi scaller digunakan ketika datanya sudah cukup bagus dan tidak banyak outliersnya. Sedangkan, Standarisasi scaller digunakan saat datanya memiliki banyak outlier"
      ],
      "metadata": {
        "id": "6Ba97pgeACl8"
      },
      "id": "6Ba97pgeACl8"
    },
    {
      "cell_type": "markdown",
      "source": [
        "### Feature Encoding"
      ],
      "metadata": {
        "id": "CebjKgxfr3y1"
      },
      "id": "CebjKgxfr3y1"
    },
    {
      "cell_type": "code",
      "execution_count": null,
      "id": "b0cb79e9-80f3-47f1-a756-95aabebeb1ab",
      "metadata": {
        "id": "b0cb79e9-80f3-47f1-a756-95aabebeb1ab"
      },
      "outputs": [],
      "source": [
        "def categorize(df):\n",
        "    new_df = df.copy()\n",
        "    le = preprocessing.LabelEncoder()\n",
        "    \n",
        "    new_df['job'] = le.fit_transform(new_df['job'])\n",
        "    new_df['marital'] = le.fit_transform(new_df['marital'])\n",
        "    new_df['education'] = le.fit_transform(new_df['education'])\n",
        "    new_df['default'] = le.fit_transform(new_df['default'])\n",
        "    new_df['housing'] = le.fit_transform(new_df['housing'])\n",
        "    new_df['loan'] = le.fit_transform(new_df['loan'])\n",
        "    new_df['month'] = le.fit_transform(new_df['month'])\n",
        "    new_df['contact'] = le.fit_transform(new_df['contact'])\n",
        "    new_df['poutcome'] = le.fit_transform(new_df['poutcome'])\n",
        "    new_df['y'] = le.fit_transform(new_df['y'])\n",
        "    return new_df"
      ]
    },
    {
      "cell_type": "code",
      "execution_count": null,
      "id": "8fad18f3-55d7-409b-ba22-a429c4b14054",
      "metadata": {
        "id": "8fad18f3-55d7-409b-ba22-a429c4b14054",
        "outputId": "4762e267-2a7e-4935-c72d-8207704fd82c",
        "colab": {
          "base_uri": "https://localhost:8080/",
          "height": 206
        }
      },
      "outputs": [
        {
          "output_type": "execute_result",
          "data": {
            "text/plain": [
              "   age  job  marital  education  default  balance  housing  loan  contact  \\\n",
              "0   58    4        1          2        0   2143.0        1     0        0   \n",
              "1   44    9        2          1        0     29.0        1     0        2   \n",
              "2   33    2        1          1        0      2.0        1     1        2   \n",
              "3   47    1        1          3        0   1506.0        1     0        2   \n",
              "4   33   11        2          3        0      1.0        0     0        2   \n",
              "\n",
              "   day  month  duration  campaign  pdays  previous  poutcome  y  age_norm  \\\n",
              "0    5      8       261         1     -1         0         3  0  0.740741   \n",
              "1    5      8       151         1     -1         0         3  0  0.481481   \n",
              "2    5      8        76         1     -1         0         3  0  0.277778   \n",
              "3    5      8        92         1     -1         0         3  0  0.537037   \n",
              "4    5      8       198         1     -1         0         3  0  0.277778   \n",
              "\n",
              "   balance_std  days_norm  duration_norm  campaign_std  pdays_norm  \\\n",
              "0     0.550385   0.133333       0.253398     -0.750442         0.0   \n",
              "1    -0.717479   0.133333       0.146602     -0.750442         0.0   \n",
              "2    -0.733672   0.133333       0.073786     -0.750442         0.0   \n",
              "3     0.168347   0.133333       0.089320     -0.750442         0.0   \n",
              "4    -0.734272   0.133333       0.192233     -0.750442         0.0   \n",
              "\n",
              "   previous_norm  \n",
              "0            0.0  \n",
              "1            0.0  \n",
              "2            0.0  \n",
              "3            0.0  \n",
              "4            0.0  "
            ],
            "text/html": [
              "\n",
              "  <div id=\"df-2e74950b-b14f-4845-9c6b-c1cd87ab5044\">\n",
              "    <div class=\"colab-df-container\">\n",
              "      <div>\n",
              "<style scoped>\n",
              "    .dataframe tbody tr th:only-of-type {\n",
              "        vertical-align: middle;\n",
              "    }\n",
              "\n",
              "    .dataframe tbody tr th {\n",
              "        vertical-align: top;\n",
              "    }\n",
              "\n",
              "    .dataframe thead th {\n",
              "        text-align: right;\n",
              "    }\n",
              "</style>\n",
              "<table border=\"1\" class=\"dataframe\">\n",
              "  <thead>\n",
              "    <tr style=\"text-align: right;\">\n",
              "      <th></th>\n",
              "      <th>age</th>\n",
              "      <th>job</th>\n",
              "      <th>marital</th>\n",
              "      <th>education</th>\n",
              "      <th>default</th>\n",
              "      <th>balance</th>\n",
              "      <th>housing</th>\n",
              "      <th>loan</th>\n",
              "      <th>contact</th>\n",
              "      <th>day</th>\n",
              "      <th>month</th>\n",
              "      <th>duration</th>\n",
              "      <th>campaign</th>\n",
              "      <th>pdays</th>\n",
              "      <th>previous</th>\n",
              "      <th>poutcome</th>\n",
              "      <th>y</th>\n",
              "      <th>age_norm</th>\n",
              "      <th>balance_std</th>\n",
              "      <th>days_norm</th>\n",
              "      <th>duration_norm</th>\n",
              "      <th>campaign_std</th>\n",
              "      <th>pdays_norm</th>\n",
              "      <th>previous_norm</th>\n",
              "    </tr>\n",
              "  </thead>\n",
              "  <tbody>\n",
              "    <tr>\n",
              "      <th>0</th>\n",
              "      <td>58</td>\n",
              "      <td>4</td>\n",
              "      <td>1</td>\n",
              "      <td>2</td>\n",
              "      <td>0</td>\n",
              "      <td>2143.0</td>\n",
              "      <td>1</td>\n",
              "      <td>0</td>\n",
              "      <td>0</td>\n",
              "      <td>5</td>\n",
              "      <td>8</td>\n",
              "      <td>261</td>\n",
              "      <td>1</td>\n",
              "      <td>-1</td>\n",
              "      <td>0</td>\n",
              "      <td>3</td>\n",
              "      <td>0</td>\n",
              "      <td>0.740741</td>\n",
              "      <td>0.550385</td>\n",
              "      <td>0.133333</td>\n",
              "      <td>0.253398</td>\n",
              "      <td>-0.750442</td>\n",
              "      <td>0.0</td>\n",
              "      <td>0.0</td>\n",
              "    </tr>\n",
              "    <tr>\n",
              "      <th>1</th>\n",
              "      <td>44</td>\n",
              "      <td>9</td>\n",
              "      <td>2</td>\n",
              "      <td>1</td>\n",
              "      <td>0</td>\n",
              "      <td>29.0</td>\n",
              "      <td>1</td>\n",
              "      <td>0</td>\n",
              "      <td>2</td>\n",
              "      <td>5</td>\n",
              "      <td>8</td>\n",
              "      <td>151</td>\n",
              "      <td>1</td>\n",
              "      <td>-1</td>\n",
              "      <td>0</td>\n",
              "      <td>3</td>\n",
              "      <td>0</td>\n",
              "      <td>0.481481</td>\n",
              "      <td>-0.717479</td>\n",
              "      <td>0.133333</td>\n",
              "      <td>0.146602</td>\n",
              "      <td>-0.750442</td>\n",
              "      <td>0.0</td>\n",
              "      <td>0.0</td>\n",
              "    </tr>\n",
              "    <tr>\n",
              "      <th>2</th>\n",
              "      <td>33</td>\n",
              "      <td>2</td>\n",
              "      <td>1</td>\n",
              "      <td>1</td>\n",
              "      <td>0</td>\n",
              "      <td>2.0</td>\n",
              "      <td>1</td>\n",
              "      <td>1</td>\n",
              "      <td>2</td>\n",
              "      <td>5</td>\n",
              "      <td>8</td>\n",
              "      <td>76</td>\n",
              "      <td>1</td>\n",
              "      <td>-1</td>\n",
              "      <td>0</td>\n",
              "      <td>3</td>\n",
              "      <td>0</td>\n",
              "      <td>0.277778</td>\n",
              "      <td>-0.733672</td>\n",
              "      <td>0.133333</td>\n",
              "      <td>0.073786</td>\n",
              "      <td>-0.750442</td>\n",
              "      <td>0.0</td>\n",
              "      <td>0.0</td>\n",
              "    </tr>\n",
              "    <tr>\n",
              "      <th>3</th>\n",
              "      <td>47</td>\n",
              "      <td>1</td>\n",
              "      <td>1</td>\n",
              "      <td>3</td>\n",
              "      <td>0</td>\n",
              "      <td>1506.0</td>\n",
              "      <td>1</td>\n",
              "      <td>0</td>\n",
              "      <td>2</td>\n",
              "      <td>5</td>\n",
              "      <td>8</td>\n",
              "      <td>92</td>\n",
              "      <td>1</td>\n",
              "      <td>-1</td>\n",
              "      <td>0</td>\n",
              "      <td>3</td>\n",
              "      <td>0</td>\n",
              "      <td>0.537037</td>\n",
              "      <td>0.168347</td>\n",
              "      <td>0.133333</td>\n",
              "      <td>0.089320</td>\n",
              "      <td>-0.750442</td>\n",
              "      <td>0.0</td>\n",
              "      <td>0.0</td>\n",
              "    </tr>\n",
              "    <tr>\n",
              "      <th>4</th>\n",
              "      <td>33</td>\n",
              "      <td>11</td>\n",
              "      <td>2</td>\n",
              "      <td>3</td>\n",
              "      <td>0</td>\n",
              "      <td>1.0</td>\n",
              "      <td>0</td>\n",
              "      <td>0</td>\n",
              "      <td>2</td>\n",
              "      <td>5</td>\n",
              "      <td>8</td>\n",
              "      <td>198</td>\n",
              "      <td>1</td>\n",
              "      <td>-1</td>\n",
              "      <td>0</td>\n",
              "      <td>3</td>\n",
              "      <td>0</td>\n",
              "      <td>0.277778</td>\n",
              "      <td>-0.734272</td>\n",
              "      <td>0.133333</td>\n",
              "      <td>0.192233</td>\n",
              "      <td>-0.750442</td>\n",
              "      <td>0.0</td>\n",
              "      <td>0.0</td>\n",
              "    </tr>\n",
              "  </tbody>\n",
              "</table>\n",
              "</div>\n",
              "      <button class=\"colab-df-convert\" onclick=\"convertToInteractive('df-2e74950b-b14f-4845-9c6b-c1cd87ab5044')\"\n",
              "              title=\"Convert this dataframe to an interactive table.\"\n",
              "              style=\"display:none;\">\n",
              "        \n",
              "  <svg xmlns=\"http://www.w3.org/2000/svg\" height=\"24px\"viewBox=\"0 0 24 24\"\n",
              "       width=\"24px\">\n",
              "    <path d=\"M0 0h24v24H0V0z\" fill=\"none\"/>\n",
              "    <path d=\"M18.56 5.44l.94 2.06.94-2.06 2.06-.94-2.06-.94-.94-2.06-.94 2.06-2.06.94zm-11 1L8.5 8.5l.94-2.06 2.06-.94-2.06-.94L8.5 2.5l-.94 2.06-2.06.94zm10 10l.94 2.06.94-2.06 2.06-.94-2.06-.94-.94-2.06-.94 2.06-2.06.94z\"/><path d=\"M17.41 7.96l-1.37-1.37c-.4-.4-.92-.59-1.43-.59-.52 0-1.04.2-1.43.59L10.3 9.45l-7.72 7.72c-.78.78-.78 2.05 0 2.83L4 21.41c.39.39.9.59 1.41.59.51 0 1.02-.2 1.41-.59l7.78-7.78 2.81-2.81c.8-.78.8-2.07 0-2.86zM5.41 20L4 18.59l7.72-7.72 1.47 1.35L5.41 20z\"/>\n",
              "  </svg>\n",
              "      </button>\n",
              "      \n",
              "  <style>\n",
              "    .colab-df-container {\n",
              "      display:flex;\n",
              "      flex-wrap:wrap;\n",
              "      gap: 12px;\n",
              "    }\n",
              "\n",
              "    .colab-df-convert {\n",
              "      background-color: #E8F0FE;\n",
              "      border: none;\n",
              "      border-radius: 50%;\n",
              "      cursor: pointer;\n",
              "      display: none;\n",
              "      fill: #1967D2;\n",
              "      height: 32px;\n",
              "      padding: 0 0 0 0;\n",
              "      width: 32px;\n",
              "    }\n",
              "\n",
              "    .colab-df-convert:hover {\n",
              "      background-color: #E2EBFA;\n",
              "      box-shadow: 0px 1px 2px rgba(60, 64, 67, 0.3), 0px 1px 3px 1px rgba(60, 64, 67, 0.15);\n",
              "      fill: #174EA6;\n",
              "    }\n",
              "\n",
              "    [theme=dark] .colab-df-convert {\n",
              "      background-color: #3B4455;\n",
              "      fill: #D2E3FC;\n",
              "    }\n",
              "\n",
              "    [theme=dark] .colab-df-convert:hover {\n",
              "      background-color: #434B5C;\n",
              "      box-shadow: 0px 1px 3px 1px rgba(0, 0, 0, 0.15);\n",
              "      filter: drop-shadow(0px 1px 2px rgba(0, 0, 0, 0.3));\n",
              "      fill: #FFFFFF;\n",
              "    }\n",
              "  </style>\n",
              "\n",
              "      <script>\n",
              "        const buttonEl =\n",
              "          document.querySelector('#df-2e74950b-b14f-4845-9c6b-c1cd87ab5044 button.colab-df-convert');\n",
              "        buttonEl.style.display =\n",
              "          google.colab.kernel.accessAllowed ? 'block' : 'none';\n",
              "\n",
              "        async function convertToInteractive(key) {\n",
              "          const element = document.querySelector('#df-2e74950b-b14f-4845-9c6b-c1cd87ab5044');\n",
              "          const dataTable =\n",
              "            await google.colab.kernel.invokeFunction('convertToInteractive',\n",
              "                                                     [key], {});\n",
              "          if (!dataTable) return;\n",
              "\n",
              "          const docLinkHtml = 'Like what you see? Visit the ' +\n",
              "            '<a target=\"_blank\" href=https://colab.research.google.com/notebooks/data_table.ipynb>data table notebook</a>'\n",
              "            + ' to learn more about interactive tables.';\n",
              "          element.innerHTML = '';\n",
              "          dataTable['output_type'] = 'display_data';\n",
              "          await google.colab.output.renderOutput(dataTable, element);\n",
              "          const docLink = document.createElement('div');\n",
              "          docLink.innerHTML = docLinkHtml;\n",
              "          element.appendChild(docLink);\n",
              "        }\n",
              "      </script>\n",
              "    </div>\n",
              "  </div>\n",
              "  "
            ]
          },
          "metadata": {},
          "execution_count": 68
        }
      ],
      "source": [
        "dftrain = categorize(dftrain)\n",
        "dftrain.head()"
      ]
    },
    {
      "cell_type": "markdown",
      "source": [
        "Simpulan :\n",
        "Feature encoding menggunakan jenis label encoder untuk memudahkan dalam pengolahan data dengan dilakukan perubahan value dari kategorikal menjadi numerik di beberapa kolom"
      ],
      "metadata": {
        "id": "BJzLaeG4CaF6"
      },
      "id": "BJzLaeG4CaF6"
    },
    {
      "cell_type": "markdown",
      "source": [
        "### Feature Selection"
      ],
      "metadata": {
        "id": "PIZNDJQYr8rZ"
      },
      "id": "PIZNDJQYr8rZ"
    },
    {
      "cell_type": "code",
      "execution_count": null,
      "id": "1dfa8ec3-dd79-47f9-a50b-d474ad177d69",
      "metadata": {
        "id": "1dfa8ec3-dd79-47f9-a50b-d474ad177d69"
      },
      "outputs": [],
      "source": [
        "dftrain = dftrain.drop(columns = ['default','contact','poutcome','pdays_norm', 'previous_norm', 'days_norm','month'],axis=1)\n",
        "dftrain = dftrain.drop(columns = ['age','balance', 'day','duration','campaign','pdays', 'previous'],axis =1 )"
      ]
    },
    {
      "cell_type": "markdown",
      "source": [
        "Simpulan :\n",
        "\n",
        "Feature selection digunakan untuk menghilangkan fitur-fitur yang tidak relevan atau bahkan merugikan dalam pemodelan. Seperti, fitur-fitur yang tidak memiliki hubungan yang kuat dengan target atau fitur yang memiliki tingkat korelasi yang tinggi dengan fitur lain, yaitu pdays dan previous dengan days\n"
      ],
      "metadata": {
        "id": "oueRUe43H4Tr"
      },
      "id": "oueRUe43H4Tr"
    },
    {
      "cell_type": "markdown",
      "source": [
        "### Handling Imbalance"
      ],
      "metadata": {
        "id": "a6TViW8QsL7d"
      },
      "id": "a6TViW8QsL7d"
    },
    {
      "cell_type": "code",
      "source": [
        "X = dftrain[[col for col in dftrain.columns if (str(dftrain[col].dtype) != 'object') and \n",
        "         col not in ['y']]]\n",
        "y = dftrain['y'].values\n",
        "print(X.shape)\n",
        "print(y.shape)"
      ],
      "metadata": {
        "colab": {
          "base_uri": "https://localhost:8080/"
        },
        "id": "4Yc2tEDAsPTP",
        "outputId": "f7d2fc9b-37f8-4865-9929-b91e8381cd9f"
      },
      "id": "4Yc2tEDAsPTP",
      "execution_count": null,
      "outputs": [
        {
          "output_type": "stream",
          "name": "stdout",
          "text": [
            "(40211, 9)\n",
            "(40211,)\n"
          ]
        }
      ]
    },
    {
      "cell_type": "code",
      "source": [
        "from imblearn import under_sampling, over_sampling\n",
        "# X_under, y_under = under_sampling.RandomUnderSampler().fit_resample(X, y)\n",
        "# X_over, y_over = over_sampling.RandomOverSampler().fit_resample(X, y)\n",
        "X_over_SMOTE, y_over_SMOTE = over_sampling.SMOTE(random_state=42).fit_resample(X, y)"
      ],
      "metadata": {
        "id": "7iuyCx8QtmHD"
      },
      "id": "7iuyCx8QtmHD",
      "execution_count": null,
      "outputs": []
    },
    {
      "cell_type": "code",
      "source": [
        "print('Original')\n",
        "print(pd.Series(y).value_counts())\n",
        "# print('\\n')\n",
        "# print('OVERSAMPLING')\n",
        "# print(pd.Series(y_over).value_counts())\n",
        "print('\\n')\n",
        "print('SMOTE')\n",
        "print(pd.Series(y_over_SMOTE).value_counts())"
      ],
      "metadata": {
        "colab": {
          "base_uri": "https://localhost:8080/"
        },
        "id": "E814V55dt2He",
        "outputId": "1eeddfb4-1b94-48be-d96e-a18026ae0221"
      },
      "id": "E814V55dt2He",
      "execution_count": null,
      "outputs": [
        {
          "output_type": "stream",
          "name": "stdout",
          "text": [
            "Original\n",
            "0    36157\n",
            "1     4054\n",
            "dtype: int64\n",
            "\n",
            "\n",
            "SMOTE\n",
            "0    36157\n",
            "1    36157\n",
            "dtype: int64\n"
          ]
        }
      ]
    },
    {
      "cell_type": "markdown",
      "source": [
        "Simpulan :\n",
        "\n",
        "Adanya penggandaan data menggunakan cara oversampling dengan teknik SMOTE. Perubahan yang terjadi pada value 1 yaitu yes dari 4054 menjadi 36157\n",
        "\n"
      ],
      "metadata": {
        "id": "KUk9EzF3H9HN"
      },
      "id": "KUk9EzF3H9HN"
    },
    {
      "cell_type": "code",
      "source": [
        "dftrain.to_csv('stage2clear', index=False)"
      ],
      "metadata": {
        "id": "ZIbfAHBoPMtN"
      },
      "id": "ZIbfAHBoPMtN",
      "execution_count": null,
      "outputs": []
    }
  ],
  "metadata": {
    "kernelspec": {
      "display_name": "Python 3 (ipykernel)",
      "language": "python",
      "name": "python3"
    },
    "language_info": {
      "codemirror_mode": {
        "name": "ipython",
        "version": 3
      },
      "file_extension": ".py",
      "mimetype": "text/x-python",
      "name": "python",
      "nbconvert_exporter": "python",
      "pygments_lexer": "ipython3",
      "version": "3.9.12"
    },
    "colab": {
      "provenance": []
    }
  },
  "nbformat": 4,
  "nbformat_minor": 5
}